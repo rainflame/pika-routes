{
 "cells": [
  {
   "cell_type": "code",
   "execution_count": null,
   "metadata": {
    "id": "FcfXwmwyjnh8"
   },
   "outputs": [],
   "source": [
    "import osmium\n",
    "from tqdm import tqdm\n",
    "from shapely.geometry import Point, LineString\n",
    "from rtree import index\n",
    "import matplotlib.pyplot as plt\n",
    "import matplotlib.colors as mcolors\n",
    "\n",
    "import utils.projections as projections\n",
    "\n",
    "standard_colors = list(mcolors.BASE_COLORS.keys())"
   ]
  },
  {
   "cell_type": "code",
   "execution_count": null,
   "metadata": {
    "id": "cLzzqeeAjnh-"
   },
   "outputs": [],
   "source": [
    "# Define a class to handle OSM data parsing\n",
    "class OSMHandler(osmium.SimpleHandler):\n",
    "    def __init__(self):\n",
    "        super(OSMHandler, self).__init__()\n",
    "        self.hiking_trails = []\n",
    "        self.lakes = []\n",
    "        self.trailheads = []\n",
    "\n",
    "    def way(self, w):\n",
    "        if 'highway' in w.tags and w.tags['highway'] == 'trailhead':\n",
    "            if w.location.valid():\n",
    "                trailhead_meta = {\n",
    "                    'id': w.id,\n",
    "                    'name': w.tags['name'] if 'name' in w.tags else '',\n",
    "                }\n",
    "                self.trailheads.append((Point(w.location.lat, w.location.lon), trailhead_meta))\n",
    "\n",
    "        if 'highway' in w.tags and w.tags['highway'] == 'path':\n",
    "            trail_coords = []\n",
    "            for n in w.nodes:\n",
    "                if n.location.valid():\n",
    "                    trail_coords.append(Point(n.location.lat, n.location.lon))\n",
    "            if len(trail_coords) > 1:\n",
    "                trail_line = LineString(trail_coords)\n",
    "                trail_meta = {\n",
    "                    'id': w.id,\n",
    "                    'name': w.tags['name'] if 'name' in w.tags else '',\n",
    "                }\n",
    "                self.hiking_trails.append((trail_line, trail_meta))\n",
    "\n",
    "# Load OSM data using OSMHandler\n",
    "osm_handler = OSMHandler()\n",
    "osm_handler.apply_file(\"data/extract.osm.pbf\", locations=True, idx='flex_mem') # use idx=dense_mmap_array for large files on linux"
   ]
  },
  {
   "cell_type": "code",
   "execution_count": null,
   "metadata": {
    "id": "Tq9J4Zhijnh-"
   },
   "outputs": [],
   "source": [
    "hiking_trails = osm_handler.hiking_trails\n",
    "print(\"Number of trails: {}\".format(len(hiking_trails)))"
   ]
  },
  {
   "cell_type": "code",
   "execution_count": null,
   "metadata": {
    "id": "I6o_AKbUjniA"
   },
   "outputs": [],
   "source": [
    "# Create an R-tree index\n",
    "trail_idx = index.Index()\n",
    "\n",
    "# Insert lines into the R-tree index with their bounding boxes\n",
    "for i, (line, _) in enumerate(hiking_trails):\n",
    "    bbox = line.bounds\n",
    "    trail_idx.insert(i, bbox)\n",
    "\n",
    "# Function to find the polygon a line is in (O(log(N)) time complexity)\n",
    "def find_connecting_trails_for_trail(l, line):\n",
    "    connected = []\n",
    "    for i in trail_idx.intersection(line.bounds):\n",
    "        if i != l:\n",
    "            # TODO: Consider if need to loosen the intersection if trails don't exactly meet.\n",
    "            intersection = hiking_trails[i][0].intersection(line)\n",
    "\n",
    "            cutpoints = []\n",
    "            if intersection.geom_type == 'Point':\n",
    "                cutpoints.append(intersection)\n",
    "            elif intersection.geom_type == 'MultiPoint':\n",
    "                cutpoints.extend(list(intersection.geoms))\n",
    "\n",
    "            if not intersection.is_empty:\n",
    "                connected.append((i, cutpoints))\n",
    "    return connected"
   ]
  },
  {
   "cell_type": "code",
   "execution_count": null,
   "metadata": {
    "id": "C-teqgkNjniB"
   },
   "outputs": [],
   "source": [
    "trail_subset = hiking_trails\n",
    "graph = []\n",
    "for l, (line, _) in tqdm(enumerate(trail_subset)):\n",
    "    connections = find_connecting_trails_for_trail(l, line)\n",
    "    graph.append(connections)"
   ]
  },
  {
   "cell_type": "code",
   "execution_count": null,
   "metadata": {
    "id": "AsLbGcCHjniB"
   },
   "outputs": [],
   "source": [
    "# # Trail has N points and M cutpoints. Total complexity: O(N + MlgM).\n",
    "# def split_trail(trail, cutpoints):\n",
    "#     line = trail[0]\n",
    "#     meta = trail[1]\n",
    "\n",
    "#     start = Point(line.coords[0])\n",
    "#     end = Point(line.coords[-1])\n",
    "\n",
    "#     # O(MlgM)\n",
    "#     uniq_cutpoints = list(set(cutpoints))\n",
    "#     sorted_cutpoints_along_line = sorted(uniq_cutpoints, key=lambda point: line.project(point))\n",
    "#     if len(sorted_cutpoints_along_line) == 0 or sorted_cutpoints_along_line[-1] != end:\n",
    "#         sorted_cutpoints_along_line.append(end)\n",
    "\n",
    "#     proj_cutpoints = [line.project(p) for p in sorted_cutpoints_along_line]\n",
    "#     proj_linecoords = [line.project(Point(p)) for p in line.coords]\n",
    "\n",
    "#     # O(N+M)\n",
    "#     sub_lines = []\n",
    "#     line_idx = 0\n",
    "#     prev_cutpoint = start\n",
    "#     for i, cutpoint in enumerate(sorted_cutpoints_along_line):\n",
    "#         if cutpoint == prev_cutpoint:\n",
    "#             continue\n",
    "\n",
    "#         sub_line = [prev_cutpoint]\n",
    "#         for j, p in enumerate(line.coords[line_idx:]):\n",
    "#             if j == 0 and p != prev_cutpoint:\n",
    "#                 sub_line.append(Point(p))\n",
    "#             else:\n",
    "#                 if proj_cutpoints[i] < proj_linecoords[line_idx + j]:\n",
    "#                     sub_line.append(cutpoint)\n",
    "#                     line_idx += j\n",
    "#                     break\n",
    "#                 else:\n",
    "#                     sub_line.append(Point(p))\n",
    "\n",
    "#         sub_lines.append(LineString(sub_line))\n",
    "#         prev_cutpoint = cutpoint\n",
    "\n",
    "#     # happens if no cutpoints and start = end\n",
    "#     if len(sub_lines) == 0:\n",
    "#        sub_lines.append(line)\n",
    "\n",
    "#     annotated_sub_lines = [(s, meta) for s in sub_lines]\n",
    "#     return annotated_sub_lines"
   ]
  },
  {
   "cell_type": "code",
   "execution_count": null,
   "metadata": {},
   "outputs": [],
   "source": [
    "\n",
    "def is_along_line(line, point):\n",
    "    start = Point(line.coords[0])\n",
    "    end = Point(line.coords[-1])\n",
    "    return point.intersects(line) or point.equals(start) or point.equals(end)\n",
    "\n",
    "def get_distance(line, point):\n",
    "    key = (line, point)\n",
    "\n",
    "    distance = 0\n",
    "    for i in range(len(line.coords) - 1):\n",
    "        segment = LineString([line.coords[i], line.coords[i + 1]])\n",
    "        if is_along_line(segment, point):\n",
    "            distance += segment.project(point)\n",
    "            break\n",
    "        else:\n",
    "            distance += segment.length\n",
    "    return distance\n",
    "\n",
    "# Break line into segments at cutpoints. Segments are sorted by projection along line.\n",
    "# Loop has N points and M cutpoints. Total complexity: O(N + MlgM).\n",
    "def split_trail(trail, cutpoints):\n",
    "    line = trail[0]\n",
    "    meta = trail[1]\n",
    "\n",
    "    start = Point(line.coords[0])\n",
    "    end = Point(line.coords[-1])\n",
    "\n",
    "    # O(MlgM)\n",
    "    uniq_cutpoints = list(set(cutpoints))\n",
    "    cutpoints_with_distance = [get_distance(line, p) for p in uniq_cutpoints]\n",
    "    sorted_cutpoints_along_line = sorted(cutpoints_with_distance, key=lambda x: x[1])\n",
    "    linecoords_with_distance = [get_distance(line, Point(p)) for p in line.coords]\n",
    "\n",
    "    if len(sorted_cutpoints_along_line) == 0 or not end.equals(sorted_cutpoints_along_line[-1]):\n",
    "        sorted_cutpoints_along_line.append((end, line.length))\n",
    "    if len(line.coords) > 0 and line.coords[0] == line.coords[-1]:\n",
    "        linecoords_with_distance[-1] = line.length\n",
    "\n",
    "    # O(N+M)\n",
    "    sub_lines = []\n",
    "    prev_cutpoint = start\n",
    "    line_idx = 0\n",
    "    for cutpoint, cutpoint_dist in enumerate(sorted_cutpoints_along_line):\n",
    "        if cutpoint.equals(prev_cutpoint):\n",
    "            continue\n",
    "\n",
    "        sub_line = [prev_cutpoint]\n",
    "        for j, p in enumerate(line.coords[line_idx:]):\n",
    "            pp = Point(p)\n",
    "            if j == 0:\n",
    "                if not pp.equals(prev_cutpoint):\n",
    "                    sub_line.append(pp)\n",
    "            else:\n",
    "                if cutpoint_dist <= linecoords_with_distance[line_idx + j]:\n",
    "                    sub_line.append(cutpoint)\n",
    "                    line_idx += j\n",
    "                    break\n",
    "                else:\n",
    "                    sub_line.append(pp)\n",
    "\n",
    "        sub_lines.append(LineString(sub_line))\n",
    "        prev_cutpoint = cutpoint\n",
    "\n",
    "    return sub_lines\n"
   ]
  },
  {
   "cell_type": "code",
   "execution_count": null,
   "metadata": {
    "id": "2DYq3O_XjniB"
   },
   "outputs": [],
   "source": [
    "def print_trail(trail, neighbors, segments):\n",
    "    fig, axs = plt.subplots(1, 2, figsize=(12, 5))\n",
    "\n",
    "    rendered_trail = projections.project_line_to_meters(trail[0])\n",
    "\n",
    "    rendered_neighbors = []\n",
    "    for n in neighbors:\n",
    "        rendered_neighbor = projections.project_line_to_meters(hiking_trails[n][0])\n",
    "        rendered_neighbors.append(rendered_neighbor)\n",
    "\n",
    "    rendered_segments = []\n",
    "    for s in segments:\n",
    "        rendered_segment = projections.project_line_to_meters(s[0])\n",
    "        rendered_segments.append(rendered_segment)\n",
    "\n",
    "    x, y = rendered_trail.xy\n",
    "    axs[0].plot(x, y, label='Trail', color=standard_colors[0])\n",
    "\n",
    "    for i, n in enumerate(rendered_neighbors):\n",
    "        x, y = n.xy\n",
    "        axs[0].plot(x, y, label='Neighbor {}'.format(i), color=standard_colors[(i+1) % len(standard_colors)])\n",
    "\n",
    "     # Set labels and legend\n",
    "    axs[0].set_xlabel('X')\n",
    "    axs[0].set_ylabel('Y')\n",
    "    axs[0].set_title(\"Trail {} w/ neighbors\".format(trail[1]['name']))\n",
    "    axs[0].legend()\n",
    "\n",
    "    for i, s in enumerate(rendered_segments):\n",
    "        x, y = s.xy\n",
    "        axs[1].plot(x, y, label='Segment {}'.format(i), color=standard_colors[i % len(standard_colors)])\n",
    "\n",
    "    # Set labels and legend\n",
    "    axs[1].set_xlabel('X')\n",
    "    axs[1].set_ylabel('Y')\n",
    "    axs[1].set_title(\"Trail {} segments\".format(trail[1]['name']))\n",
    "    axs[1].legend()\n",
    "\n",
    "    # Set equal aspect ratio\n",
    "    plt.axis('equal')\n",
    "\n",
    "    # Show the plot\n",
    "    plt.show()"
   ]
  },
  {
   "cell_type": "code",
   "execution_count": null,
   "metadata": {
    "id": "vPSnmcLwjniC"
   },
   "outputs": [],
   "source": [
    "LIMIT = 15\n",
    "count = 0\n",
    "for i in range(len(trail_subset)):\n",
    "    trail = trail_subset[i]\n",
    "\n",
    "    connections = graph[i]\n",
    "    neighbors = [n for (n, cs) in connections]\n",
    "    cutpoints = [c for (n, cs) in connections for c in cs]\n",
    "    segments = split_trail(trail, cutpoints)\n",
    "    print_trail(trail, neighbors, segments)\n",
    "\n",
    "    count += 1\n",
    "    if count == LIMIT:\n",
    "        break"
   ]
  },
  {
   "cell_type": "code",
   "execution_count": null,
   "metadata": {
    "id": "sZ7Ecm30jniC"
   },
   "outputs": [],
   "source": [
    "all_segments = []\n",
    "\n",
    "for i in range(len(trail_subset)):\n",
    "    trail = trail_subset[i]\n",
    "\n",
    "    connections = graph[i]\n",
    "    cutpoints = [c for (n, cs) in connections for c in cs]\n",
    "    segments = split_trail(trail, cutpoints)\n",
    "\n",
    "    all_segments.extend(segments)\n",
    "\n",
    "print(\"Total segments: {}\".format(len(all_segments)))"
   ]
  },
  {
   "cell_type": "code",
   "execution_count": null,
   "metadata": {
    "id": "sgYmghB3jniE"
   },
   "outputs": [],
   "source": [
    "# No segments have the same geometry. Phew!\n",
    "segment_geometries = [geo for (geo, meta) in all_segments]\n",
    "unique_segments = list(set(segment_geometries))\n",
    "print(\"Unique segments: {}\".format(len(unique_segments)))"
   ]
  },
  {
   "cell_type": "code",
   "execution_count": null,
   "metadata": {
    "id": "2emhjew-jniE"
   },
   "outputs": [],
   "source": [
    "fig, ax = plt.subplots()\n",
    "\n",
    "rendered_segments = []\n",
    "for s in segment_geometries:\n",
    "    rendered_segment = projections.project_line_to_meters(s)\n",
    "    rendered_segments.append(rendered_segment)\n",
    "\n",
    "for i, s in enumerate(rendered_segments):\n",
    "    x, y = s.xy\n",
    "    ax.plot(x, y, color=standard_colors[i % len(standard_colors)])\n",
    "\n",
    "# Set labels and legend\n",
    "ax.set_xlabel('X')\n",
    "ax.set_ylabel('Y')\n",
    "ax.set_title(\"All segments\")\n",
    "ax.legend()\n",
    "\n",
    "# Set equal aspect ratio\n",
    "plt.axis('equal')\n",
    "\n",
    "# Show the plot\n",
    "plt.show()"
   ]
  },
  {
   "cell_type": "code",
   "execution_count": null,
   "metadata": {
    "id": "-rMk7FgXjniF"
   },
   "outputs": [],
   "source": [
    "import os\n",
    "import pickle\n",
    "\n",
    "filename = os.path.join(\"data\", 'all_trail_segments.pickle')\n",
    "\n",
    "with open(filename, 'wb') as f:\n",
    "    pickle.dump(all_segments, f)\n",
    "\n",
    "print(\"Saved all trail segments\")"
   ]
  },
  {
   "cell_type": "code",
   "execution_count": null,
   "metadata": {
    "id": "2bCdLwxNjniF"
   },
   "outputs": [],
   "source": []
  }
 ],
 "metadata": {
  "colab": {
   "provenance": []
  },
  "kernelspec": {
   "display_name": ".venv",
   "language": "python",
   "name": "python3"
  },
  "language_info": {
   "codemirror_mode": {
    "name": "ipython",
    "version": 3
   },
   "file_extension": ".py",
   "mimetype": "text/x-python",
   "name": "python",
   "nbconvert_exporter": "python",
   "pygments_lexer": "ipython3",
   "version": "3.11.4"
  }
 },
 "nbformat": 4,
 "nbformat_minor": 0
}
